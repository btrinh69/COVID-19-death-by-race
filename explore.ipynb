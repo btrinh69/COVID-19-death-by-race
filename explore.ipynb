{
 "cells": [
  {
   "cell_type": "code",
   "execution_count": 1,
   "metadata": {},
   "outputs": [],
   "source": [
    "import numpy as np\n",
    "import pandas as pd\n",
    "from sklearn.linear_model import LinearRegression\n",
    "from sklearn.decomposition import PCA\n",
    "import matplotlib.pyplot as plt\n",
    "import matplotlib\n",
    "from sklearn.model_selection import train_test_split\n",
    "from sklearn.preprocessing import StandardScaler, PolynomialFeatures\n",
    "from sklearn.pipeline import Pipeline\n",
    "from sklearn.metrics import explained_variance_score"
   ]
  },
  {
   "cell_type": "code",
   "execution_count": 2,
   "metadata": {},
   "outputs": [],
   "source": [
    "poverty = pd.ExcelFile(\"est19all.xls\")"
   ]
  },
  {
   "cell_type": "code",
   "execution_count": 3,
   "metadata": {},
   "outputs": [],
   "source": [
    "data_pe = poverty.parse(skiprows=3)"
   ]
  },
  {
   "cell_type": "code",
   "execution_count": 4,
   "metadata": {},
   "outputs": [],
   "source": [
    "data_pe = data_pe[['Postal Code','Name',\n",
    "        'Poverty Percent, All Ages',\n",
    "        'Median Household Income']].copy()\n",
    "data_pe = data_pe[data_pe['Postal Code'] != 'US']"
   ]
  },
  {
   "cell_type": "code",
   "execution_count": 5,
   "metadata": {},
   "outputs": [],
   "source": [
    "us_state_abbrev = {\n",
    "    'Alabama': 'AL',\n",
    "    'Alaska': 'AK',\n",
    "    'American Samoa': 'AS',\n",
    "    'Arizona': 'AZ',\n",
    "    'Arkansas': 'AR',\n",
    "    'California': 'CA',\n",
    "    'Colorado': 'CO',\n",
    "    'Connecticut': 'CT',\n",
    "    'Delaware': 'DE',\n",
    "    'District of Columbia': 'DC',\n",
    "    'Florida': 'FL',\n",
    "    'Georgia': 'GA',\n",
    "    'Guam': 'GU',\n",
    "    'Hawaii': 'HI',\n",
    "    'Idaho': 'ID',\n",
    "    'Illinois': 'IL',\n",
    "    'Indiana': 'IN',\n",
    "    'Iowa': 'IA',\n",
    "    'Kansas': 'KS',\n",
    "    'Kentucky': 'KY',\n",
    "    'Louisiana': 'LA',\n",
    "    'Maine': 'ME',\n",
    "    'Maryland': 'MD',\n",
    "    'Massachusetts': 'MA',\n",
    "    'Michigan': 'MI',\n",
    "    'Minnesota': 'MN',\n",
    "    'Mississippi': 'MS',\n",
    "    'Missouri': 'MO',\n",
    "    'Montana': 'MT',\n",
    "    'Nebraska': 'NE',\n",
    "    'Nevada': 'NV',\n",
    "    'New Hampshire': 'NH',\n",
    "    'New Jersey': 'NJ',\n",
    "    'New Mexico': 'NM',\n",
    "    'New York': 'NY',\n",
    "    'North Carolina': 'NC',\n",
    "    'North Dakota': 'ND',\n",
    "    'Northern Mariana Islands':'MP',\n",
    "    'Ohio': 'OH',\n",
    "    'Oklahoma': 'OK',\n",
    "    'Oregon': 'OR',\n",
    "    'Pennsylvania': 'PA',\n",
    "    'Puerto Rico': 'PR',\n",
    "    'Rhode Island': 'RI',\n",
    "    'South Carolina': 'SC',\n",
    "    'South Dakota': 'SD',\n",
    "    'Tennessee': 'TN',\n",
    "    'Texas': 'TX',\n",
    "    'Utah': 'UT',\n",
    "    'Vermont': 'VT',\n",
    "    'Virgin Islands': 'VI',\n",
    "    'Virginia': 'VA',\n",
    "    'Washington': 'WA',\n",
    "    'West Virginia': 'WV',\n",
    "    'Wisconsin': 'WI',\n",
    "    'Wyoming': 'WY'\n",
    "}\n",
    "abbr = dict((y,x) for x,y in us_state_abbrev.items())"
   ]
  },
  {
   "cell_type": "code",
   "execution_count": 6,
   "metadata": {},
   "outputs": [],
   "source": [
    "data_pe['STNAME'] = data_pe.apply(lambda x: abbr[x['Postal Code']], axis = 1)"
   ]
  },
  {
   "cell_type": "code",
   "execution_count": 7,
   "metadata": {},
   "outputs": [],
   "source": [
    "data_pe = data_pe.rename(columns={'Name': 'CTYNAME'})\n",
    "data_pe = data_pe[~data_pe['CTYNAME'].isin(list(us_state_abbrev.keys()))]"
   ]
  },
  {
   "cell_type": "code",
   "execution_count": 8,
   "metadata": {},
   "outputs": [
    {
     "data": {
      "text/html": [
       "<div>\n",
       "<style scoped>\n",
       "    .dataframe tbody tr th:only-of-type {\n",
       "        vertical-align: middle;\n",
       "    }\n",
       "\n",
       "    .dataframe tbody tr th {\n",
       "        vertical-align: top;\n",
       "    }\n",
       "\n",
       "    .dataframe thead th {\n",
       "        text-align: right;\n",
       "    }\n",
       "</style>\n",
       "<table border=\"1\" class=\"dataframe\">\n",
       "  <thead>\n",
       "    <tr style=\"text-align: right;\">\n",
       "      <th></th>\n",
       "      <th>Postal Code</th>\n",
       "      <th>CTYNAME</th>\n",
       "      <th>Poverty Percent, All Ages</th>\n",
       "      <th>Median Household Income</th>\n",
       "      <th>STNAME</th>\n",
       "    </tr>\n",
       "  </thead>\n",
       "  <tbody>\n",
       "    <tr>\n",
       "      <th>2</th>\n",
       "      <td>AL</td>\n",
       "      <td>Autauga County</td>\n",
       "      <td>12.1</td>\n",
       "      <td>58233</td>\n",
       "      <td>Alabama</td>\n",
       "    </tr>\n",
       "    <tr>\n",
       "      <th>3</th>\n",
       "      <td>AL</td>\n",
       "      <td>Baldwin County</td>\n",
       "      <td>10.1</td>\n",
       "      <td>59871</td>\n",
       "      <td>Alabama</td>\n",
       "    </tr>\n",
       "    <tr>\n",
       "      <th>4</th>\n",
       "      <td>AL</td>\n",
       "      <td>Barbour County</td>\n",
       "      <td>27.1</td>\n",
       "      <td>35972</td>\n",
       "      <td>Alabama</td>\n",
       "    </tr>\n",
       "    <tr>\n",
       "      <th>5</th>\n",
       "      <td>AL</td>\n",
       "      <td>Bibb County</td>\n",
       "      <td>20.3</td>\n",
       "      <td>47918</td>\n",
       "      <td>Alabama</td>\n",
       "    </tr>\n",
       "    <tr>\n",
       "      <th>6</th>\n",
       "      <td>AL</td>\n",
       "      <td>Blount County</td>\n",
       "      <td>16.3</td>\n",
       "      <td>52902</td>\n",
       "      <td>Alabama</td>\n",
       "    </tr>\n",
       "  </tbody>\n",
       "</table>\n",
       "</div>"
      ],
      "text/plain": [
       "  Postal Code         CTYNAME Poverty Percent, All Ages  \\\n",
       "2          AL  Autauga County                      12.1   \n",
       "3          AL  Baldwin County                      10.1   \n",
       "4          AL  Barbour County                      27.1   \n",
       "5          AL     Bibb County                      20.3   \n",
       "6          AL   Blount County                      16.3   \n",
       "\n",
       "  Median Household Income   STNAME  \n",
       "2                   58233  Alabama  \n",
       "3                   59871  Alabama  \n",
       "4                   35972  Alabama  \n",
       "5                   47918  Alabama  \n",
       "6                   52902  Alabama  "
      ]
     },
     "execution_count": 8,
     "metadata": {},
     "output_type": "execute_result"
    }
   ],
   "source": [
    "data_pe.head()"
   ]
  },
  {
   "cell_type": "code",
   "execution_count": 9,
   "metadata": {},
   "outputs": [],
   "source": [
    "race = pd.read_csv(\"cc-est2019-alldata.csv\", encoding='latin-1', usecols = ['STNAME', 'CTYNAME', 'YEAR', 'TOT_POP', \n",
    "                                                                            'WA_MALE', 'WA_FEMALE',\n",
    "                                                                           'BA_MALE', 'BA_FEMALE',\n",
    "                                                                           'IA_MALE', 'IA_FEMALE',\n",
    "                                                                           'AA_MALE', 'AA_FEMALE',\n",
    "                                                                           'NA_MALE', 'NA_FEMALE',\n",
    "                                                                           'H_MALE', 'H_FEMALE'])"
   ]
  },
  {
   "cell_type": "code",
   "execution_count": 10,
   "metadata": {},
   "outputs": [],
   "source": [
    "race_data = race[race['YEAR'] == 12].copy()"
   ]
  },
  {
   "cell_type": "code",
   "execution_count": 11,
   "metadata": {},
   "outputs": [],
   "source": [
    "# race_data\n",
    "\n",
    "race_list = ['WA', 'BA', 'IA', 'AA', 'NA', 'H']\n",
    "    \n",
    "race_data = race_data.groupby(by = ['STNAME',\"CTYNAME\", \"YEAR\"]).sum()\n"
   ]
  },
  {
   "cell_type": "code",
   "execution_count": 12,
   "metadata": {},
   "outputs": [],
   "source": [
    "temp = race_data['TOT_POP']\n",
    "race_data = race_data.drop('TOT_POP', axis = 1)"
   ]
  },
  {
   "cell_type": "code",
   "execution_count": 13,
   "metadata": {},
   "outputs": [],
   "source": [
    "for r in race_list:\n",
    "    race_data[r] = race_data[f\"{r}_MALE\"] + race_data[f\"{r}_FEMALE\"]\n",
    "    \n",
    "\n",
    "race_data  = race_data.loc[:,~race_data.columns.str.endswith('MALE')]\n",
    "race_data['MAJORITY'] = race_data.idxmax(axis = 1)\n",
    "race_data['TOT_POP'] = temp\n",
    "race_data = race_data.reset_index()"
   ]
  },
  {
   "cell_type": "code",
   "execution_count": 14,
   "metadata": {},
   "outputs": [
    {
     "data": {
      "text/plain": [
       "WA    2994\n",
       "BA     111\n",
       "IA      32\n",
       "AA       3\n",
       "NA       1\n",
       "H        1\n",
       "Name: MAJORITY, dtype: int64"
      ]
     },
     "execution_count": 14,
     "metadata": {},
     "output_type": "execute_result"
    }
   ],
   "source": [
    "race_data['MAJORITY'].value_counts()"
   ]
  },
  {
   "cell_type": "code",
   "execution_count": 15,
   "metadata": {},
   "outputs": [],
   "source": [
    "race_data['YEAR'] = [2019]*len(race_data.index)"
   ]
  },
  {
   "cell_type": "code",
   "execution_count": 17,
   "metadata": {},
   "outputs": [],
   "source": [
    "smr = race_data.merge(data_pe, how='inner', left_on = ['STNAME', 'CTYNAME'], right_on = ['STNAME', 'CTYNAME'])"
   ]
  },
  {
   "cell_type": "code",
   "execution_count": 18,
   "metadata": {},
   "outputs": [
    {
     "data": {
      "text/html": [
       "<div>\n",
       "<style scoped>\n",
       "    .dataframe tbody tr th:only-of-type {\n",
       "        vertical-align: middle;\n",
       "    }\n",
       "\n",
       "    .dataframe tbody tr th {\n",
       "        vertical-align: top;\n",
       "    }\n",
       "\n",
       "    .dataframe thead th {\n",
       "        text-align: right;\n",
       "    }\n",
       "</style>\n",
       "<table border=\"1\" class=\"dataframe\">\n",
       "  <thead>\n",
       "    <tr style=\"text-align: right;\">\n",
       "      <th></th>\n",
       "      <th>STNAME</th>\n",
       "      <th>CTYNAME</th>\n",
       "      <th>YEAR</th>\n",
       "      <th>WA</th>\n",
       "      <th>BA</th>\n",
       "      <th>IA</th>\n",
       "      <th>AA</th>\n",
       "      <th>NA</th>\n",
       "      <th>H</th>\n",
       "      <th>MAJORITY</th>\n",
       "      <th>TOT_POP</th>\n",
       "      <th>Postal Code</th>\n",
       "      <th>Poverty Percent, All Ages</th>\n",
       "      <th>Median Household Income</th>\n",
       "    </tr>\n",
       "  </thead>\n",
       "  <tbody>\n",
       "    <tr>\n",
       "      <th>0</th>\n",
       "      <td>Alabama</td>\n",
       "      <td>Autauga County</td>\n",
       "      <td>2019</td>\n",
       "      <td>85214</td>\n",
       "      <td>22474</td>\n",
       "      <td>532</td>\n",
       "      <td>1312</td>\n",
       "      <td>116</td>\n",
       "      <td>3342</td>\n",
       "      <td>WA</td>\n",
       "      <td>111738</td>\n",
       "      <td>AL</td>\n",
       "      <td>12.1</td>\n",
       "      <td>58233</td>\n",
       "    </tr>\n",
       "    <tr>\n",
       "      <th>1</th>\n",
       "      <td>Alabama</td>\n",
       "      <td>Baldwin County</td>\n",
       "      <td>2019</td>\n",
       "      <td>390396</td>\n",
       "      <td>39186</td>\n",
       "      <td>3484</td>\n",
       "      <td>4760</td>\n",
       "      <td>308</td>\n",
       "      <td>21068</td>\n",
       "      <td>WA</td>\n",
       "      <td>446468</td>\n",
       "      <td>AL</td>\n",
       "      <td>10.1</td>\n",
       "      <td>59871</td>\n",
       "    </tr>\n",
       "    <tr>\n",
       "      <th>2</th>\n",
       "      <td>Alabama</td>\n",
       "      <td>Barbour County</td>\n",
       "      <td>2019</td>\n",
       "      <td>24268</td>\n",
       "      <td>23812</td>\n",
       "      <td>340</td>\n",
       "      <td>232</td>\n",
       "      <td>104</td>\n",
       "      <td>2234</td>\n",
       "      <td>WA</td>\n",
       "      <td>49372</td>\n",
       "      <td>AL</td>\n",
       "      <td>27.1</td>\n",
       "      <td>35972</td>\n",
       "    </tr>\n",
       "    <tr>\n",
       "      <th>3</th>\n",
       "      <td>Alabama</td>\n",
       "      <td>Bibb County</td>\n",
       "      <td>2019</td>\n",
       "      <td>34382</td>\n",
       "      <td>9526</td>\n",
       "      <td>206</td>\n",
       "      <td>96</td>\n",
       "      <td>52</td>\n",
       "      <td>1246</td>\n",
       "      <td>WA</td>\n",
       "      <td>44788</td>\n",
       "      <td>AL</td>\n",
       "      <td>20.3</td>\n",
       "      <td>47918</td>\n",
       "    </tr>\n",
       "    <tr>\n",
       "      <th>4</th>\n",
       "      <td>Alabama</td>\n",
       "      <td>Blount County</td>\n",
       "      <td>2019</td>\n",
       "      <td>110824</td>\n",
       "      <td>1956</td>\n",
       "      <td>740</td>\n",
       "      <td>370</td>\n",
       "      <td>134</td>\n",
       "      <td>11164</td>\n",
       "      <td>WA</td>\n",
       "      <td>115652</td>\n",
       "      <td>AL</td>\n",
       "      <td>16.3</td>\n",
       "      <td>52902</td>\n",
       "    </tr>\n",
       "  </tbody>\n",
       "</table>\n",
       "</div>"
      ],
      "text/plain": [
       "    STNAME         CTYNAME  YEAR      WA     BA    IA    AA   NA      H  \\\n",
       "0  Alabama  Autauga County  2019   85214  22474   532  1312  116   3342   \n",
       "1  Alabama  Baldwin County  2019  390396  39186  3484  4760  308  21068   \n",
       "2  Alabama  Barbour County  2019   24268  23812   340   232  104   2234   \n",
       "3  Alabama     Bibb County  2019   34382   9526   206    96   52   1246   \n",
       "4  Alabama   Blount County  2019  110824   1956   740   370  134  11164   \n",
       "\n",
       "  MAJORITY  TOT_POP Postal Code Poverty Percent, All Ages  \\\n",
       "0       WA   111738          AL                      12.1   \n",
       "1       WA   446468          AL                      10.1   \n",
       "2       WA    49372          AL                      27.1   \n",
       "3       WA    44788          AL                      20.3   \n",
       "4       WA   115652          AL                      16.3   \n",
       "\n",
       "  Median Household Income  \n",
       "0                   58233  \n",
       "1                   59871  \n",
       "2                   35972  \n",
       "3                   47918  \n",
       "4                   52902  "
      ]
     },
     "execution_count": 18,
     "metadata": {},
     "output_type": "execute_result"
    }
   ],
   "source": [
    "smr.head()"
   ]
  },
  {
   "cell_type": "code",
   "execution_count": 21,
   "metadata": {},
   "outputs": [
    {
     "data": {
      "text/html": [
       "<div>\n",
       "<style scoped>\n",
       "    .dataframe tbody tr th:only-of-type {\n",
       "        vertical-align: middle;\n",
       "    }\n",
       "\n",
       "    .dataframe tbody tr th {\n",
       "        vertical-align: top;\n",
       "    }\n",
       "\n",
       "    .dataframe thead th {\n",
       "        text-align: right;\n",
       "    }\n",
       "</style>\n",
       "<table border=\"1\" class=\"dataframe\">\n",
       "  <thead>\n",
       "    <tr style=\"text-align: right;\">\n",
       "      <th></th>\n",
       "      <th>Date as of</th>\n",
       "      <th>First week</th>\n",
       "      <th>Last week</th>\n",
       "      <th>State</th>\n",
       "      <th>County name</th>\n",
       "      <th>FIPS County Code</th>\n",
       "      <th>Urban Rural Code</th>\n",
       "      <th>Deaths involving COVID-19</th>\n",
       "      <th>Deaths from All Causes</th>\n",
       "    </tr>\n",
       "  </thead>\n",
       "  <tbody>\n",
       "    <tr>\n",
       "      <th>0</th>\n",
       "      <td>12/09/2020</td>\n",
       "      <td>02/01/2020</td>\n",
       "      <td>12/05/2020</td>\n",
       "      <td>AK</td>\n",
       "      <td>Anchorage Borough</td>\n",
       "      <td>2020</td>\n",
       "      <td>Medium metro</td>\n",
       "      <td>75</td>\n",
       "      <td>1798</td>\n",
       "    </tr>\n",
       "    <tr>\n",
       "      <th>1</th>\n",
       "      <td>12/09/2020</td>\n",
       "      <td>02/01/2020</td>\n",
       "      <td>12/05/2020</td>\n",
       "      <td>AK</td>\n",
       "      <td>Fairbanks North Star Borough</td>\n",
       "      <td>2090</td>\n",
       "      <td>Small metro</td>\n",
       "      <td>18</td>\n",
       "      <td>441</td>\n",
       "    </tr>\n",
       "    <tr>\n",
       "      <th>2</th>\n",
       "      <td>12/09/2020</td>\n",
       "      <td>02/01/2020</td>\n",
       "      <td>12/05/2020</td>\n",
       "      <td>AL</td>\n",
       "      <td>Autauga County</td>\n",
       "      <td>1001</td>\n",
       "      <td>Medium metro</td>\n",
       "      <td>35</td>\n",
       "      <td>433</td>\n",
       "    </tr>\n",
       "    <tr>\n",
       "      <th>3</th>\n",
       "      <td>12/09/2020</td>\n",
       "      <td>02/01/2020</td>\n",
       "      <td>12/05/2020</td>\n",
       "      <td>AL</td>\n",
       "      <td>Baldwin County</td>\n",
       "      <td>1003</td>\n",
       "      <td>Small metro</td>\n",
       "      <td>100</td>\n",
       "      <td>1924</td>\n",
       "    </tr>\n",
       "    <tr>\n",
       "      <th>4</th>\n",
       "      <td>12/09/2020</td>\n",
       "      <td>02/01/2020</td>\n",
       "      <td>12/05/2020</td>\n",
       "      <td>AL</td>\n",
       "      <td>Barbour County</td>\n",
       "      <td>1005</td>\n",
       "      <td>Noncore</td>\n",
       "      <td>17</td>\n",
       "      <td>239</td>\n",
       "    </tr>\n",
       "  </tbody>\n",
       "</table>\n",
       "</div>"
      ],
      "text/plain": [
       "   Date as of  First week   Last week State                   County name  \\\n",
       "0  12/09/2020  02/01/2020  12/05/2020    AK             Anchorage Borough   \n",
       "1  12/09/2020  02/01/2020  12/05/2020    AK  Fairbanks North Star Borough   \n",
       "2  12/09/2020  02/01/2020  12/05/2020    AL                Autauga County   \n",
       "3  12/09/2020  02/01/2020  12/05/2020    AL                Baldwin County   \n",
       "4  12/09/2020  02/01/2020  12/05/2020    AL                Barbour County   \n",
       "\n",
       "   FIPS County Code Urban Rural Code  Deaths involving COVID-19  \\\n",
       "0              2020     Medium metro                         75   \n",
       "1              2090      Small metro                         18   \n",
       "2              1001     Medium metro                         35   \n",
       "3              1003      Small metro                        100   \n",
       "4              1005          Noncore                         17   \n",
       "\n",
       "   Deaths from All Causes  \n",
       "0                    1798  \n",
       "1                     441  \n",
       "2                     433  \n",
       "3                    1924  \n",
       "4                     239  "
      ]
     },
     "execution_count": 21,
     "metadata": {},
     "output_type": "execute_result"
    }
   ],
   "source": [
    "deaths = pd.read_csv(\"deaths_county_level.csv\")\n",
    "deaths.head()"
   ]
  },
  {
   "cell_type": "code",
   "execution_count": 22,
   "metadata": {},
   "outputs": [
    {
     "data": {
      "text/html": [
       "<div>\n",
       "<style scoped>\n",
       "    .dataframe tbody tr th:only-of-type {\n",
       "        vertical-align: middle;\n",
       "    }\n",
       "\n",
       "    .dataframe tbody tr th {\n",
       "        vertical-align: top;\n",
       "    }\n",
       "\n",
       "    .dataframe thead th {\n",
       "        text-align: right;\n",
       "    }\n",
       "</style>\n",
       "<table border=\"1\" class=\"dataframe\">\n",
       "  <thead>\n",
       "    <tr style=\"text-align: right;\">\n",
       "      <th></th>\n",
       "      <th>State</th>\n",
       "      <th>County name</th>\n",
       "      <th>covid_death</th>\n",
       "      <th>all_death</th>\n",
       "    </tr>\n",
       "  </thead>\n",
       "  <tbody>\n",
       "    <tr>\n",
       "      <th>0</th>\n",
       "      <td>AK</td>\n",
       "      <td>Anchorage Borough</td>\n",
       "      <td>75</td>\n",
       "      <td>1798</td>\n",
       "    </tr>\n",
       "    <tr>\n",
       "      <th>1</th>\n",
       "      <td>AK</td>\n",
       "      <td>Fairbanks North Star Borough</td>\n",
       "      <td>18</td>\n",
       "      <td>441</td>\n",
       "    </tr>\n",
       "    <tr>\n",
       "      <th>2</th>\n",
       "      <td>AL</td>\n",
       "      <td>Autauga County</td>\n",
       "      <td>35</td>\n",
       "      <td>433</td>\n",
       "    </tr>\n",
       "    <tr>\n",
       "      <th>3</th>\n",
       "      <td>AL</td>\n",
       "      <td>Baldwin County</td>\n",
       "      <td>100</td>\n",
       "      <td>1924</td>\n",
       "    </tr>\n",
       "    <tr>\n",
       "      <th>4</th>\n",
       "      <td>AL</td>\n",
       "      <td>Barbour County</td>\n",
       "      <td>17</td>\n",
       "      <td>239</td>\n",
       "    </tr>\n",
       "  </tbody>\n",
       "</table>\n",
       "</div>"
      ],
      "text/plain": [
       "  State                   County name  covid_death  all_death\n",
       "0    AK             Anchorage Borough           75       1798\n",
       "1    AK  Fairbanks North Star Borough           18        441\n",
       "2    AL                Autauga County           35        433\n",
       "3    AL                Baldwin County          100       1924\n",
       "4    AL                Barbour County           17        239"
      ]
     },
     "execution_count": 22,
     "metadata": {},
     "output_type": "execute_result"
    }
   ],
   "source": [
    "deaths = deaths[['State', 'County name', 'Deaths involving COVID-19', 'Deaths from All Causes']]\n",
    "deaths = deaths.rename(columns = {'Deaths involving COVID-19': 'covid_death', 'Deaths from All Causes': 'all_death'})\n",
    "deaths.head()"
   ]
  },
  {
   "cell_type": "code",
   "execution_count": 23,
   "metadata": {},
   "outputs": [
    {
     "data": {
      "text/html": [
       "<div>\n",
       "<style scoped>\n",
       "    .dataframe tbody tr th:only-of-type {\n",
       "        vertical-align: middle;\n",
       "    }\n",
       "\n",
       "    .dataframe tbody tr th {\n",
       "        vertical-align: top;\n",
       "    }\n",
       "\n",
       "    .dataframe thead th {\n",
       "        text-align: right;\n",
       "    }\n",
       "</style>\n",
       "<table border=\"1\" class=\"dataframe\">\n",
       "  <thead>\n",
       "    <tr style=\"text-align: right;\">\n",
       "      <th></th>\n",
       "      <th>STNAME</th>\n",
       "      <th>CTYNAME</th>\n",
       "      <th>YEAR</th>\n",
       "      <th>WA</th>\n",
       "      <th>BA</th>\n",
       "      <th>IA</th>\n",
       "      <th>AA</th>\n",
       "      <th>NA</th>\n",
       "      <th>H</th>\n",
       "      <th>MAJORITY</th>\n",
       "      <th>TOT_POP</th>\n",
       "      <th>Postal Code</th>\n",
       "      <th>Poverty Percent, All Ages</th>\n",
       "      <th>Median Household Income</th>\n",
       "      <th>State</th>\n",
       "      <th>County name</th>\n",
       "      <th>covid_death</th>\n",
       "      <th>all_death</th>\n",
       "    </tr>\n",
       "  </thead>\n",
       "  <tbody>\n",
       "    <tr>\n",
       "      <th>0</th>\n",
       "      <td>Alabama</td>\n",
       "      <td>Autauga County</td>\n",
       "      <td>2019</td>\n",
       "      <td>85214</td>\n",
       "      <td>22474</td>\n",
       "      <td>532</td>\n",
       "      <td>1312</td>\n",
       "      <td>116</td>\n",
       "      <td>3342</td>\n",
       "      <td>WA</td>\n",
       "      <td>111738</td>\n",
       "      <td>AL</td>\n",
       "      <td>12.1</td>\n",
       "      <td>58233</td>\n",
       "      <td>AL</td>\n",
       "      <td>Autauga County</td>\n",
       "      <td>35</td>\n",
       "      <td>433</td>\n",
       "    </tr>\n",
       "    <tr>\n",
       "      <th>1</th>\n",
       "      <td>Alabama</td>\n",
       "      <td>Baldwin County</td>\n",
       "      <td>2019</td>\n",
       "      <td>390396</td>\n",
       "      <td>39186</td>\n",
       "      <td>3484</td>\n",
       "      <td>4760</td>\n",
       "      <td>308</td>\n",
       "      <td>21068</td>\n",
       "      <td>WA</td>\n",
       "      <td>446468</td>\n",
       "      <td>AL</td>\n",
       "      <td>10.1</td>\n",
       "      <td>59871</td>\n",
       "      <td>AL</td>\n",
       "      <td>Baldwin County</td>\n",
       "      <td>100</td>\n",
       "      <td>1924</td>\n",
       "    </tr>\n",
       "    <tr>\n",
       "      <th>2</th>\n",
       "      <td>Alabama</td>\n",
       "      <td>Barbour County</td>\n",
       "      <td>2019</td>\n",
       "      <td>24268</td>\n",
       "      <td>23812</td>\n",
       "      <td>340</td>\n",
       "      <td>232</td>\n",
       "      <td>104</td>\n",
       "      <td>2234</td>\n",
       "      <td>WA</td>\n",
       "      <td>49372</td>\n",
       "      <td>AL</td>\n",
       "      <td>27.1</td>\n",
       "      <td>35972</td>\n",
       "      <td>AL</td>\n",
       "      <td>Barbour County</td>\n",
       "      <td>17</td>\n",
       "      <td>239</td>\n",
       "    </tr>\n",
       "    <tr>\n",
       "      <th>3</th>\n",
       "      <td>Alabama</td>\n",
       "      <td>Bibb County</td>\n",
       "      <td>2019</td>\n",
       "      <td>34382</td>\n",
       "      <td>9526</td>\n",
       "      <td>206</td>\n",
       "      <td>96</td>\n",
       "      <td>52</td>\n",
       "      <td>1246</td>\n",
       "      <td>WA</td>\n",
       "      <td>44788</td>\n",
       "      <td>AL</td>\n",
       "      <td>20.3</td>\n",
       "      <td>47918</td>\n",
       "      <td>AL</td>\n",
       "      <td>Bibb County</td>\n",
       "      <td>20</td>\n",
       "      <td>163</td>\n",
       "    </tr>\n",
       "    <tr>\n",
       "      <th>4</th>\n",
       "      <td>Alabama</td>\n",
       "      <td>Blount County</td>\n",
       "      <td>2019</td>\n",
       "      <td>110824</td>\n",
       "      <td>1956</td>\n",
       "      <td>740</td>\n",
       "      <td>370</td>\n",
       "      <td>134</td>\n",
       "      <td>11164</td>\n",
       "      <td>WA</td>\n",
       "      <td>115652</td>\n",
       "      <td>AL</td>\n",
       "      <td>16.3</td>\n",
       "      <td>52902</td>\n",
       "      <td>AL</td>\n",
       "      <td>Blount County</td>\n",
       "      <td>12</td>\n",
       "      <td>419</td>\n",
       "    </tr>\n",
       "  </tbody>\n",
       "</table>\n",
       "</div>"
      ],
      "text/plain": [
       "    STNAME         CTYNAME  YEAR      WA     BA    IA    AA   NA      H  \\\n",
       "0  Alabama  Autauga County  2019   85214  22474   532  1312  116   3342   \n",
       "1  Alabama  Baldwin County  2019  390396  39186  3484  4760  308  21068   \n",
       "2  Alabama  Barbour County  2019   24268  23812   340   232  104   2234   \n",
       "3  Alabama     Bibb County  2019   34382   9526   206    96   52   1246   \n",
       "4  Alabama   Blount County  2019  110824   1956   740   370  134  11164   \n",
       "\n",
       "  MAJORITY  TOT_POP Postal Code Poverty Percent, All Ages  \\\n",
       "0       WA   111738          AL                      12.1   \n",
       "1       WA   446468          AL                      10.1   \n",
       "2       WA    49372          AL                      27.1   \n",
       "3       WA    44788          AL                      20.3   \n",
       "4       WA   115652          AL                      16.3   \n",
       "\n",
       "  Median Household Income State     County name  covid_death  all_death  \n",
       "0                   58233    AL  Autauga County           35        433  \n",
       "1                   59871    AL  Baldwin County          100       1924  \n",
       "2                   35972    AL  Barbour County           17        239  \n",
       "3                   47918    AL     Bibb County           20        163  \n",
       "4                   52902    AL   Blount County           12        419  "
      ]
     },
     "execution_count": 23,
     "metadata": {},
     "output_type": "execute_result"
    }
   ],
   "source": [
    "dd = smr.merge(deaths, how = 'inner', left_on = ['Postal Code', 'CTYNAME'], right_on = ['State', 'County name'])\n",
    "dd.head()"
   ]
  },
  {
   "cell_type": "code",
   "execution_count": 25,
   "metadata": {},
   "outputs": [],
   "source": [
    "# plt.plot(group['Median Household Income'], group['covid_death'], d)"
   ]
  },
  {
   "cell_type": "code",
   "execution_count": 26,
   "metadata": {},
   "outputs": [],
   "source": [
    "death_race = pd.read_csv(\"deaths_race.csv\")"
   ]
  },
  {
   "cell_type": "code",
   "execution_count": 27,
   "metadata": {},
   "outputs": [
    {
     "data": {
      "text/html": [
       "<div>\n",
       "<style scoped>\n",
       "    .dataframe tbody tr th:only-of-type {\n",
       "        vertical-align: middle;\n",
       "    }\n",
       "\n",
       "    .dataframe tbody tr th {\n",
       "        vertical-align: top;\n",
       "    }\n",
       "\n",
       "    .dataframe thead th {\n",
       "        text-align: right;\n",
       "    }\n",
       "</style>\n",
       "<table border=\"1\" class=\"dataframe\">\n",
       "  <thead>\n",
       "    <tr style=\"text-align: right;\">\n",
       "      <th></th>\n",
       "      <th>Data as of</th>\n",
       "      <th>Start Week</th>\n",
       "      <th>End Week</th>\n",
       "      <th>State</th>\n",
       "      <th>Indicator</th>\n",
       "      <th>Non-Hispanic White</th>\n",
       "      <th>Non-Hispanic Black or African American</th>\n",
       "      <th>Non-Hispanic American Indian or Alaska Native</th>\n",
       "      <th>Non-Hispanic Asian</th>\n",
       "      <th>Non-Hispanic Native Hawaiian or Other Pacific Islander</th>\n",
       "      <th>Hispanic or Latino</th>\n",
       "      <th>Other</th>\n",
       "      <th>Footnote</th>\n",
       "    </tr>\n",
       "  </thead>\n",
       "  <tbody>\n",
       "    <tr>\n",
       "      <th>0</th>\n",
       "      <td>12/09/2020</td>\n",
       "      <td>02/01/2020</td>\n",
       "      <td>12/05/2020</td>\n",
       "      <td>United States</td>\n",
       "      <td>Count of COVID-19 deaths</td>\n",
       "      <td>148043.0</td>\n",
       "      <td>47617.0</td>\n",
       "      <td>2851.0</td>\n",
       "      <td>9690.0</td>\n",
       "      <td>477.0</td>\n",
       "      <td>50710.0</td>\n",
       "      <td>2142.0</td>\n",
       "      <td>NaN</td>\n",
       "    </tr>\n",
       "    <tr>\n",
       "      <th>1</th>\n",
       "      <td>12/09/2020</td>\n",
       "      <td>02/01/2020</td>\n",
       "      <td>12/05/2020</td>\n",
       "      <td>United States</td>\n",
       "      <td>Distribution of COVID-19 deaths (%)</td>\n",
       "      <td>56.6</td>\n",
       "      <td>18.2</td>\n",
       "      <td>1.1</td>\n",
       "      <td>3.7</td>\n",
       "      <td>0.2</td>\n",
       "      <td>19.4</td>\n",
       "      <td>0.8</td>\n",
       "      <td>NaN</td>\n",
       "    </tr>\n",
       "    <tr>\n",
       "      <th>2</th>\n",
       "      <td>12/09/2020</td>\n",
       "      <td>02/01/2020</td>\n",
       "      <td>12/05/2020</td>\n",
       "      <td>United States</td>\n",
       "      <td>Unweighted distribution of population (%)</td>\n",
       "      <td>60.1</td>\n",
       "      <td>12.5</td>\n",
       "      <td>0.7</td>\n",
       "      <td>5.8</td>\n",
       "      <td>0.2</td>\n",
       "      <td>18.5</td>\n",
       "      <td>2.2</td>\n",
       "      <td>NaN</td>\n",
       "    </tr>\n",
       "    <tr>\n",
       "      <th>3</th>\n",
       "      <td>12/09/2020</td>\n",
       "      <td>02/01/2020</td>\n",
       "      <td>12/05/2020</td>\n",
       "      <td>United States</td>\n",
       "      <td>Weighted distribution of population (%)</td>\n",
       "      <td>40.7</td>\n",
       "      <td>15.1</td>\n",
       "      <td>0.3</td>\n",
       "      <td>9.6</td>\n",
       "      <td>0.1</td>\n",
       "      <td>32.1</td>\n",
       "      <td>2.0</td>\n",
       "      <td>NaN</td>\n",
       "    </tr>\n",
       "    <tr>\n",
       "      <th>4</th>\n",
       "      <td>12/09/2020</td>\n",
       "      <td>02/01/2020</td>\n",
       "      <td>12/05/2020</td>\n",
       "      <td>Alabama</td>\n",
       "      <td>Count of COVID-19 deaths</td>\n",
       "      <td>2956.0</td>\n",
       "      <td>1539.0</td>\n",
       "      <td>NaN</td>\n",
       "      <td>23.0</td>\n",
       "      <td>0.0</td>\n",
       "      <td>106.0</td>\n",
       "      <td>NaN</td>\n",
       "      <td>One or more data cells have counts between 1-9...</td>\n",
       "    </tr>\n",
       "  </tbody>\n",
       "</table>\n",
       "</div>"
      ],
      "text/plain": [
       "   Data as of  Start Week    End Week          State  \\\n",
       "0  12/09/2020  02/01/2020  12/05/2020  United States   \n",
       "1  12/09/2020  02/01/2020  12/05/2020  United States   \n",
       "2  12/09/2020  02/01/2020  12/05/2020  United States   \n",
       "3  12/09/2020  02/01/2020  12/05/2020  United States   \n",
       "4  12/09/2020  02/01/2020  12/05/2020        Alabama   \n",
       "\n",
       "                                   Indicator  Non-Hispanic White  \\\n",
       "0                   Count of COVID-19 deaths            148043.0   \n",
       "1        Distribution of COVID-19 deaths (%)                56.6   \n",
       "2  Unweighted distribution of population (%)                60.1   \n",
       "3    Weighted distribution of population (%)                40.7   \n",
       "4                   Count of COVID-19 deaths              2956.0   \n",
       "\n",
       "   Non-Hispanic Black or African American  \\\n",
       "0                                 47617.0   \n",
       "1                                    18.2   \n",
       "2                                    12.5   \n",
       "3                                    15.1   \n",
       "4                                  1539.0   \n",
       "\n",
       "   Non-Hispanic American Indian or Alaska Native  Non-Hispanic Asian  \\\n",
       "0                                         2851.0              9690.0   \n",
       "1                                            1.1                 3.7   \n",
       "2                                            0.7                 5.8   \n",
       "3                                            0.3                 9.6   \n",
       "4                                            NaN                23.0   \n",
       "\n",
       "   Non-Hispanic Native Hawaiian or Other Pacific Islander  Hispanic or Latino  \\\n",
       "0                                              477.0                  50710.0   \n",
       "1                                                0.2                     19.4   \n",
       "2                                                0.2                     18.5   \n",
       "3                                                0.1                     32.1   \n",
       "4                                                0.0                    106.0   \n",
       "\n",
       "    Other                                           Footnote  \n",
       "0  2142.0                                                NaN  \n",
       "1     0.8                                                NaN  \n",
       "2     2.2                                                NaN  \n",
       "3     2.0                                                NaN  \n",
       "4     NaN  One or more data cells have counts between 1-9...  "
      ]
     },
     "execution_count": 27,
     "metadata": {},
     "output_type": "execute_result"
    }
   ],
   "source": [
    "death_race.head()"
   ]
  },
  {
   "cell_type": "code",
   "execution_count": 28,
   "metadata": {},
   "outputs": [],
   "source": [
    "death_race = death_race[['State', 'Indicator', \n",
    "                         'Non-Hispanic White', 'Non-Hispanic Black or African American', \n",
    "                         'Non-Hispanic American Indian or Alaska Native',\n",
    "                        'Non-Hispanic Asian',\n",
    "                        'Non-Hispanic Native Hawaiian or Other Pacific Islander',\n",
    "                        'Hispanic or Latino',\n",
    "                        'Other']]\n",
    "death_race = death_race[death_race['State'] != 'United States']\n",
    "death_race = death_race.replace(np.nan, 0)"
   ]
  },
  {
   "cell_type": "code",
   "execution_count": 29,
   "metadata": {},
   "outputs": [],
   "source": [
    "death_race = death_race[death_race['Indicator'] == 'Distribution of COVID-19 deaths (%)']\n",
    "# death_race = death_race[death_race['Indicator'] == 'Count of COVID-19 deaths']"
   ]
  },
  {
   "cell_type": "code",
   "execution_count": 30,
   "metadata": {},
   "outputs": [],
   "source": [
    "state_population = race.groupby('STNAME').sum().reset_index()[['STNAME', 'TOT_POP']]"
   ]
  },
  {
   "cell_type": "code",
   "execution_count": 31,
   "metadata": {},
   "outputs": [],
   "source": [
    "median_income = pd.ExcelFile('est19us.xls').parse(skiprows=3)\n",
    "median_income = median_income[['Name', 'Median Household Income']]\n",
    "# median_income = median_income[['Name', 'Poverty Percent, All Ages']]"
   ]
  },
  {
   "cell_type": "code",
   "execution_count": 32,
   "metadata": {},
   "outputs": [],
   "source": [
    "smr2 = state_population.merge(median_income, left_on = ['STNAME'], right_on=['Name'], how='inner')"
   ]
  },
  {
   "cell_type": "code",
   "execution_count": 33,
   "metadata": {},
   "outputs": [],
   "source": [
    "smr2 = smr2.merge(death_race, left_on = ['STNAME'], right_on = ['State'], how = 'inner')"
   ]
  },
  {
   "cell_type": "code",
   "execution_count": 34,
   "metadata": {},
   "outputs": [
    {
     "data": {
      "text/plain": [
       "Index(['STNAME', 'TOT_POP', 'Name', 'Median Household Income', 'State',\n",
       "       'Indicator', 'Non-Hispanic White',\n",
       "       'Non-Hispanic Black or African American',\n",
       "       'Non-Hispanic American Indian or Alaska Native', 'Non-Hispanic Asian',\n",
       "       'Non-Hispanic Native Hawaiian or Other Pacific Islander',\n",
       "       'Hispanic or Latino', 'Other'],\n",
       "      dtype='object')"
      ]
     },
     "execution_count": 34,
     "metadata": {},
     "output_type": "execute_result"
    }
   ],
   "source": [
    "smr2.columns"
   ]
  },
  {
   "cell_type": "code",
   "execution_count": 35,
   "metadata": {},
   "outputs": [],
   "source": [
    "matplotlib.rcParams[\"font.size\"] = 12"
   ]
  },
  {
   "cell_type": "code",
   "execution_count": 36,
   "metadata": {},
   "outputs": [
    {
     "data": {
      "image/png": "[encoded data removed]",
      "text/plain": [
       "<Figure size 432x288 with 1 Axes>"
      ]
     },
     "metadata": {
      "needs_background": "light"
     },
     "output_type": "display_data"
    }
   ],
   "source": [
    "group = ['Non-Hispanic White',\n",
    "       'Non-Hispanic Black or African American',\n",
    "       'Non-Hispanic American Indian or Alaska Native', 'Non-Hispanic Asian',\n",
    "       'Non-Hispanic Native Hawaiian or Other Pacific Islander',\n",
    "       'Hispanic or Latino']\n",
    "fig, ax = plt.subplots()\n",
    "points = []\n",
    "for i in range(len(group)):\n",
    "    points.append(ax.scatter(smr2['Median Household Income'], smr2[group[i]], color = plt.cm.tab20(i)))\n",
    "#     points.append(ax.scatter(smr2['Poverty Percent, All Ages'], smr2[group[i]], color = plt.cm.tab20(i)))\n",
    "#     ax.legend(points)\n",
    "# ax.legend()\n",
    "ax.set_xlabel('Median Household Income ($)')\n",
    "ax.set_ylabel('Distribution of COVID-19 deaths (%)')\n",
    "ax.set_title(\"\"\"Income and The Distribution of COVID-19 deaths\n",
    "(Percentage of Deaths for Each Race in States)\"\"\")\n",
    "lg = ax.legend(handles = points, labels = group, loc = 'best', bbox_to_anchor=(1.05, 1))\n",
    "fig.savefig('Figure1.png', bbox_extra_artists=(lg,), bbox_inches='tight')"
   ]
  },
  {
   "cell_type": "code",
   "execution_count": 37,
   "metadata": {},
   "outputs": [],
   "source": [
    "pca_data = dd[['WA', 'BA', 'IA', 'AA', 'NA', 'H', 'Median Household Income', 'covid_death']]"
   ]
  },
  {
   "cell_type": "code",
   "execution_count": 38,
   "metadata": {},
   "outputs": [],
   "source": [
    "train, test = train_test_split(pca_data, train_size = 0.7)"
   ]
  },
  {
   "cell_type": "code",
   "execution_count": 39,
   "metadata": {},
   "outputs": [],
   "source": [
    "# dir(pca)\n",
    "explained_var = list()\n",
    "for i in range(len(train.columns)):\n",
    "    pca = PCA(n_components = i)\n",
    "    pca.fit(pca_data)\n",
    "    pca.transform(pca_data)\n",
    "    explained_var.append([i, sum(pca.explained_variance_ratio_)])"
   ]
  },
  {
   "cell_type": "code",
   "execution_count": 40,
   "metadata": {},
   "outputs": [],
   "source": [
    "# dir(pca)\n",
    "scaled = StandardScaler().fit(train).transform(train)\n",
    "explained_var_scaled = list()\n",
    "for i in range(len(train.columns)):\n",
    "    pca = PCA(n_components = i)\n",
    "    pca.fit(pca_data)\n",
    "    pca.transform(pca_data)\n",
    "    explained_var_scaled.append([i, sum(pca.explained_variance_ratio_)])"
   ]
  },
  {
   "cell_type": "code",
   "execution_count": 41,
   "metadata": {},
   "outputs": [],
   "source": [
    "pca_exl_var = pd.DataFrame(explained_var, columns = ['Components', 'Explained Variance'])\n",
    "pca_exl_var_scaled = pd.DataFrame(explained_var_scaled, columns = ['Components', 'Explained Variance'])"
   ]
  },
  {
   "cell_type": "code",
   "execution_count": 42,
   "metadata": {},
   "outputs": [
    {
     "data": {
      "text/plain": [
       "Text(0, 0.5, 'Cumulative Explained Variance')"
      ]
     },
     "execution_count": 42,
     "metadata": {},
     "output_type": "execute_result"
    },
    {
     "data": {
      "image/png": "[encoded data removed]",
      "text/plain": [
       "<Figure size 432x288 with 1 Axes>"
      ]
     },
     "metadata": {
      "needs_background": "light"
     },
     "output_type": "display_data"
    }
   ],
   "source": [
    "fig2, ax2 = plt.subplots()\n",
    "line1 =  ax2.plot(pca_exl_var[\"Components\"], pca_exl_var['Explained Variance'])\n",
    "ax2.set_xlabel(\"Number of Components\")\n",
    "ax2.set_title(\"Principle Components of Breaks\")\n",
    "ax2.set_ylabel(\"Cumulative Explained Variance\")\n",
    "# line2 = ax2.scatter(pca_exl_var_scaled[\"Components\"], pca_exl_var_scaled['Explained Variance'], color = plt.cm.tab20(3))"
   ]
  },
  {
   "cell_type": "code",
   "execution_count": 541,
   "metadata": {},
   "outputs": [],
   "source": [
    "# fig.savefig(dpi=200, fname = 'Figure1.png')\n",
    "# fig2.savefig(dpi=200, fname = 'Figure2.png')\n",
    "# dir(pca)"
   ]
  },
  {
   "cell_type": "code",
   "execution_count": 43,
   "metadata": {},
   "outputs": [],
   "source": [
    "\n",
    "# pf = PolynomialFeatures()\n",
    "pipe = Pipeline([\n",
    "    (\"scaler\", StandardScaler()),\n",
    "    ('pca', PCA(n_components = 3)),\n",
    "    ('poly', PolynomialFeatures(degree = 2)),\n",
    "    (\"lr\", LinearRegression())\n",
    "])"
   ]
  },
  {
   "cell_type": "code",
   "execution_count": 44,
   "metadata": {},
   "outputs": [
    {
     "data": {
      "text/plain": [
       "Pipeline(steps=[('scaler', StandardScaler()), ('pca', PCA(n_components=3)),\n",
       "                ('poly', PolynomialFeatures()), ('lr', LinearRegression())])"
      ]
     },
     "execution_count": 44,
     "metadata": {},
     "output_type": "execute_result"
    }
   ],
   "source": [
    "y = 'covid_death'\n",
    "pipe.fit(X = train, y = train[[y]])\n",
    "# lr.fit(train, train[[y]])"
   ]
  },
  {
   "cell_type": "code",
   "execution_count": 45,
   "metadata": {},
   "outputs": [
    {
     "data": {
      "text/plain": [
       "(0.9120244759857679, 0.8975793013704549)"
      ]
     },
     "execution_count": 45,
     "metadata": {},
     "output_type": "execute_result"
    }
   ],
   "source": [
    "explained_variance_score(train[y], pipe.predict(train)), explained_variance_score(test[y], pipe.predict(test))"
   ]
  },
  {
   "cell_type": "code",
   "execution_count": 48,
   "metadata": {},
   "outputs": [
    {
     "data": {
      "text/plain": [
       "array([[   0. ,  166.5, -166.4, -156.1,    0.9,    5.9,   -9.8,   -7.3,\n",
       "           1. ,   22.7]])"
      ]
     },
     "execution_count": 48,
     "metadata": {},
     "output_type": "execute_result"
    }
   ],
   "source": [
    "# x = pipe['pca'].explained_variance_ratio_\n",
    "a = pipe['lr'].coef_\n",
    "# b = pipe['lr'].intercept_\n",
    "coefficients = [x[0] for x in list(pipe['lr'].coef_[0].reshape(-1,1))]\n",
    "coefficients = coefficients[1:]\n",
    "# coef = pd.DataFrame(zip(pipe['poly'].get_feature_names(), coefficients), columns = ['coef','values'])\n",
    "# coefficients\n",
    "a.round(1)\n",
    "# coefficients.round(1)"
   ]
  },
  {
   "cell_type": "code",
   "execution_count": 49,
   "metadata": {},
   "outputs": [
    {
     "data": {
      "text/plain": [
       "Text(0.5, 1.0, 'Linear Regression Coefficients')"
      ]
     },
     "execution_count": 49,
     "metadata": {},
     "output_type": "execute_result"
    },
    {
     "data": {
      "image/png": "[encoded data removed]",
      "text/plain": [
       "<Figure size 432x288 with 1 Axes>"
      ]
     },
     "metadata": {
      "needs_background": "light"
     },
     "output_type": "display_data"
    }
   ],
   "source": [
    "fig3, ax3 = plt.subplots()\n",
    "ticks = ['C1', 'C2', 'C3', '(C1)^2',\n",
    " 'C1 * C2', 'C1 * C3', '(C2)^2',\n",
    " 'C1 * C2', '(C3)^2']\n",
    "idx = range(len(coefficients))\n",
    "ax3.barh(idx, coefficients)\n",
    "plt.yticks(idx, ticks)\n",
    "ax3.set_xlabel('Coefficients')\n",
    "ax3.set_ylabel('Components')\n",
    "ax3.set_title('Linear Regression Coefficients')"
   ]
  },
  {
   "cell_type": "code",
   "execution_count": 622,
   "metadata": {},
   "outputs": [],
   "source": [
    "fig3.savefig(dpi=200,fname='Figure3.png', bbox_inches='tight')"
   ]
  },
  {
   "cell_type": "code",
   "execution_count": 50,
   "metadata": {},
   "outputs": [
    {
     "data": {
      "text/plain": [
       "['1',\n",
       " 'Component 1',\n",
       " 'Component 2',\n",
       " 'Component 3',\n",
       " '(Component 1)^2',\n",
       " 'Component1 * Component 2',\n",
       " 'Component1 * Component 3',\n",
       " '(Component 2)^2',\n",
       " 'Component1 * Component 2',\n",
       " '(Component 3)^2']"
      ]
     },
     "execution_count": 50,
     "metadata": {},
     "output_type": "execute_result"
    }
   ],
   "source": [
    "pipe['poly'].get_feature_names()\n",
    "['1', 'Component 1', 'Component 2', 'Component 3', '(Component 1)^2',\n",
    " 'Component1 * Component 2', 'Component1 * Component 3', '(Component 2)^2',\n",
    " 'Component1 * Component 2', '(Component 3)^2']"
   ]
  },
  {
   "cell_type": "code",
   "execution_count": 51,
   "metadata": {},
   "outputs": [
    {
     "data": {
      "text/plain": [
       "(array([[ 0.42864018,  0.34489032,  0.38203468,  0.39885151,  0.24169599,\n",
       "          0.41397448,  0.12256898,  0.38401856],\n",
       "        [-0.02175059, -0.33884464, -0.06204399,  0.19615244,  0.48119535,\n",
       "         -0.08463449,  0.73257817, -0.25884988],\n",
       "        [-0.08024909, -0.30305055,  0.14500674,  0.17815501,  0.59766196,\n",
       "          0.1045401 , -0.64679572, -0.24996228]]),\n",
       " Index(['WA', 'BA', 'IA', 'AA', 'NA', 'H', 'Median Household Income',\n",
       "        'covid_death'],\n",
       "       dtype='object'))"
      ]
     },
     "execution_count": 51,
     "metadata": {},
     "output_type": "execute_result"
    }
   ],
   "source": [
    "pipe['pca'].components_, train.columns"
   ]
  }
 ],
 "metadata": {
  "kernelspec": {
   "display_name": "Python 3",
   "language": "python",
   "name": "python3"
  },
  "language_info": {
   "codemirror_mode": {
    "name": "ipython",
    "version": 3
   },
   "file_extension": ".py",
   "mimetype": "text/x-python",
   "name": "python",
   "nbconvert_exporter": "python",
   "pygments_lexer": "ipython3",
   "version": "3.6.9"
  }
 },
 "nbformat": 4,
 "nbformat_minor": 4
}
